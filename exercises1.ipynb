{
 "cells": [
  {
   "cell_type": "markdown",
   "metadata": {},
   "source": [
    "# Ejercicio 1\n",
    "\n",
    "### Escribir un programa que pregunte al usuario por las ventas de un rango de años y muestre por pantalla una serie con los datos de las ventas indexada por los años, antes y después de aplicarles un descuento del 10%"
   ]
  },
  {
   "cell_type": "code",
   "execution_count": null,
   "metadata": {},
   "outputs": [],
   "source": [
    "import pandas as pd\n",
    "\n",
    "# ingresar datos por el usuario\n",
    "    #ingresar año y ventas\n",
    "#crear una serie de pandas en base a los datos\n",
    "    #indexar la serie por los años\n",
    "    # Aplicar el 10% a los datos de ventas\n",
    "# mostrar resultado\n",
    "\n"
   ]
  },
  {
   "cell_type": "code",
   "execution_count": 1,
   "metadata": {},
   "outputs": [
    {
     "data": {
      "text/plain": [
       "{'mascota_1': 'nombre1',\n",
       " 'mascota_2': 'nombre2',\n",
       " 'mascota_3': 'nombre3',\n",
       " 'mascota_4': 'nombre4',\n",
       " 'mascota_5': 'nombre5',\n",
       " 'mascota_6': 'nombre6',\n",
       " 'mascota_7': 'nombre7',\n",
       " 'mascota_8': 'nombre8',\n",
       " 'mascota_9': 'nombre9',\n",
       " 'mascota_10': 'nombre10',\n",
       " 'mascota_11': 'nombre12',\n",
       " 'mascota_12': 'nombre13'}"
      ]
     },
     "execution_count": 1,
     "metadata": {},
     "output_type": "execute_result"
    }
   ],
   "source": [
    "pets_dict = {\n",
    "    \"pet_1\" : \"nombre1\",\n",
    "    \"pet_2\" : \"nombre2\",\n",
    "    \"pet_3\" : \"nombre3\",\n",
    "    \"pet_4\" : \"nombre4\",\n",
    "    \"pet_9\" : \"nombre5\",\n",
    "    \"pet_5\" : \"nombre6\",\n",
    "    \"pet_6\" : \"nombre7\",\n",
    "    \"pet_7\" : \"nombre8\",\n",
    "    \"pet_12\" : \"nombre9\",\n",
    "    \"pet_10\" : \"nombre10\",\n",
    "    \"pet_11\" : \"nombre12\",\n",
    "    \"pet_13\" : \"nombre13\"\n",
    "}\n",
    "\n",
    "def replace_key(dictionario, new_name):\n",
    "    new_dictionary = {}\n",
    "    index = 0\n",
    "    for key, value in dictionario.items():\n",
    "        index += 1\n",
    "        new_dictionary[f'{new_name}_{index}'] = value\n",
    "    return new_dictionary\n",
    "\n",
    "pets_dict = replace_key(pets_dict, \"mascota\")\n",
    "pets_dict"
   ]
  },
  {
   "cell_type": "code",
   "execution_count": 3,
   "metadata": {},
   "outputs": [
    {
     "name": "stdout",
     "output_type": "stream",
     "text": [
      "Call to Julia\n",
      "Dialing 53876543677\n",
      "ringing the phone\n",
      "ringing the phone\n",
      "ringing the phone\n",
      "Hello Julia\n",
      "We will send you an e-mail to juliiita_1945@hola.com\n",
      "Sending mail\n"
     ]
    }
   ],
   "source": [
    "import time\n",
    "\n",
    "julia = {\n",
    "    \"name\" : \"Julia\",\n",
    "    \"age\" : \"85\",\n",
    "    \"mail\" : \"juliiita_1945@hola.com\",\n",
    "    \"phone_number\" : \"53876543677\",\n",
    "}\n",
    "\n",
    "def call_user(user):\n",
    "    print(f\"Call to {user['name']}\")\n",
    "    print(f\"Dialing {user['phone_number']}\")\n",
    "    for i in range(3):\n",
    "        print(\"ringing the phone\")\n",
    "        time.sleep(1.8)\n",
    "    print(f\"Hello {user['name']}\")\n",
    "    print(f\"We will send you an e-mail to {user['mail']}\")\n",
    "    print(\"Sending mail\")\n",
    "\n",
    "call_user(julia)"
   ]
  },
  {
   "cell_type": "code",
   "execution_count": 4,
   "metadata": {},
   "outputs": [],
   "source": [
    "gastos_mensuales = {\n",
    "    'gastos_basicos' : {\n",
    "        'gas' : 30000,\n",
    "        'agua' : 9000,\n",
    "        'luz' : 20000\n",
    "    },\n",
    "    'ahorros' : {\n",
    "        \"savings\" : 1000,\n",
    "        'mutual_funds': {\n",
    "            \"mutual_funds_bank\" : \"Itau\",\n",
    "            \"mutual_funds_account\" : \"00000000\",\n",
    "            \"mutual_funds_name\" : \"fintual a.g.f.\",\n",
    "        }\n",
    "    },\n",
    "    'user' : {\n",
    "            \"user\" : \"100-8\",\n",
    "            \"bank_url\" : \"www.santander.cl\",\n",
    "            \"pass\" : \"solylluvia\",\n",
    "    }\n",
    "}\n",
    "\n",
    "def ejecutar_gastos(dictionario):\n",
    "    depositante = dictionario['user']['user']\n"
   ]
  }
 ],
 "metadata": {
  "interpreter": {
   "hash": "2754d3a67fdc5c55984a5749a83be3c5e2897f7d86a1fc8f037effd16c6af8ef"
  },
  "kernelspec": {
   "display_name": "Python 3.9.7 64-bit (windows store)",
   "name": "python3"
  },
  "language_info": {
   "codemirror_mode": {
    "name": "ipython",
    "version": 3
   },
   "file_extension": ".py",
   "mimetype": "text/x-python",
   "name": "python",
   "nbconvert_exporter": "python",
   "pygments_lexer": "ipython3",
   "version": "3.9.7"
  },
  "orig_nbformat": 4
 },
 "nbformat": 4,
 "nbformat_minor": 2
}
